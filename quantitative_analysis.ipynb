{
 "cells": [
  {
   "cell_type": "code",
   "execution_count": 5,
   "metadata": {},
   "outputs": [
    {
     "name": "stdout",
     "output_type": "stream",
     "text": [
      "  Ticker        Date        Open        High         Low       Close  \\\n",
      "0   AAPL  2023-02-07  150.639999  155.229996  150.639999  154.649994   \n",
      "1   AAPL  2023-02-08  153.880005  154.580002  151.169998  151.919998   \n",
      "2   AAPL  2023-02-09  153.779999  154.330002  150.419998  150.869995   \n",
      "3   AAPL  2023-02-10  149.460007  151.339996  149.220001  151.009995   \n",
      "4   AAPL  2023-02-13  150.949997  154.259995  150.919998  153.850006   \n",
      "\n",
      "    Adj Close    Volume  \n",
      "0  154.414230  83322600  \n",
      "1  151.688400  64120100  \n",
      "2  150.639999  56007100  \n",
      "3  151.009995  57450700  \n",
      "4  153.850006  62199000  \n"
     ]
    }
   ],
   "source": [
    "import pandas as pd\n",
    "import plotly.express as px\n",
    "import plotly.graph_objects as go\n",
    "from plotly.subplots import make_subplots\n",
    "import plotly.io as pio\n",
    "pio.templates.default = \"plotly_white\"\n",
    "\n",
    "# Load the dataset\n",
    "stocks_data = pd.read_csv(\"stocks.csv\")\n",
    "\n",
    "# Display the first few rows of the dataset\n",
    "print(stocks_data.head())"
   ]
  },
  {
   "cell_type": "markdown",
   "metadata": {},
   "source": [
    "### Descriptive Statistics\n",
    "\n",
    "Descriptive Statistics will provide summary statistics for each stock in the dataset. We’ll look at measures such as mean, median, standard deviation, and more for the Close prices:"
   ]
  },
  {
   "cell_type": "code",
   "execution_count": 3,
   "metadata": {},
   "outputs": [
    {
     "name": "stdout",
     "output_type": "stream",
     "text": [
      "        count        mean        std         min         25%         50%  \\\n",
      "Ticker                                                                     \n",
      "AAPL     62.0  158.240645   7.360485  145.309998  152.077499  158.055000   \n",
      "GOOG     62.0  100.631532   6.279464   89.349998   94.702501  102.759998   \n",
      "MSFT     62.0  275.039839  17.676231  246.270004  258.742500  275.810013   \n",
      "NFLX     62.0  327.614677  18.554419  292.760010  315.672493  325.600006   \n",
      "\n",
      "               75%         max  \n",
      "Ticker                          \n",
      "AAPL    165.162506  173.570007  \n",
      "GOOG    105.962503  109.459999  \n",
      "MSFT    287.217506  310.649994  \n",
      "NFLX    338.899994  366.829987  \n"
     ]
    }
   ],
   "source": [
    "# Descriptive Statistics for each stock\n",
    "descriptive_stats = stocks_data.groupby('Ticker')['Close'].describe()\n",
    "\n",
    "print(descriptive_stats)"
   ]
  },
  {
   "cell_type": "markdown",
   "metadata": {},
   "source": [
    "Let’s break down the results for each stock:\n",
    "\n",
    "AAPL (Apple Inc.):\n",
    "\n",
    "- Count: 62.0 (The number of observations or trading days included in the dataset for AAPL)\n",
    "\n",
    "- Mean: 158.24 (The average closing price)\n",
    "\n",
    "- Standard Deviation: 7.36 (Measures the amount of variation or dispersion of closing prices)\n",
    "\n",
    "- Minimum: 145.31 (The lowest closing price in the dataset)\n",
    "\n",
    "- 25th Percentile: 152.08 (25% of the closing prices are below this value)\n",
    "\n",
    "- Median (50%): 158.06 (The middle value of the closing prices)\n",
    "\n",
    "- 75th Percentile: 165.16 (75% of the closing prices are below this value)\n",
    "\n",
    "- Maximum: 173.57 (The highest closing price in the dataset)"
   ]
  },
  {
   "cell_type": "markdown",
   "metadata": {},
   "source": []
  }
 ],
 "metadata": {
  "kernelspec": {
   "display_name": "Python 3",
   "language": "python",
   "name": "python3"
  },
  "language_info": {
   "codemirror_mode": {
    "name": "ipython",
    "version": 3
   },
   "file_extension": ".py",
   "mimetype": "text/x-python",
   "name": "python",
   "nbconvert_exporter": "python",
   "pygments_lexer": "ipython3",
   "version": "3.12.0"
  }
 },
 "nbformat": 4,
 "nbformat_minor": 2
}
